{
 "cells": [
  {
   "cell_type": "code",
   "execution_count": 33,
   "id": "88104e1b-6889-4e87-9083-68929f62e6aa",
   "metadata": {},
   "outputs": [],
   "source": [
    "corpus = open(\"text.txt\", \"r\", encoding=\"utf-8\")\n",
    "cde=corpus.read()\n"
   ]
  },
  {
   "cell_type": "code",
   "execution_count": 35,
   "id": "5c918397-8817-4e8b-a87f-b3367f07d7bf",
   "metadata": {},
   "outputs": [],
   "source": [
    "cde=cde.split()"
   ]
  },
  {
   "cell_type": "code",
   "execution_count": 36,
   "id": "ced2effe-590c-4254-9f67-7861e2516e94",
   "metadata": {},
   "outputs": [
    {
     "data": {
      "text/plain": [
       "2344418"
      ]
     },
     "execution_count": 36,
     "metadata": {},
     "output_type": "execute_result"
    }
   ],
   "source": [
    "len(cde)"
   ]
  },
  {
   "cell_type": "code",
   "execution_count": 37,
   "id": "9a7535c9-0045-4a31-9862-ec6580c6eda9",
   "metadata": {},
   "outputs": [],
   "source": [
    "cde=[string.strip() for string in cde]"
   ]
  },
  {
   "cell_type": "code",
   "execution_count": 38,
   "id": "da4545ce-d587-419f-ad62-523b52eec674",
   "metadata": {},
   "outputs": [],
   "source": [
    "cde=[string for string in cde if len(string) >0]"
   ]
  },
  {
   "cell_type": "code",
   "execution_count": 39,
   "id": "135d251e-cd28-4a45-9aea-d4f7ece3beda",
   "metadata": {},
   "outputs": [],
   "source": [
    "cde=[string.lower() for string in cde]"
   ]
  },
  {
   "cell_type": "code",
   "execution_count": 43,
   "id": "1d0a2b4b-56fb-4c91-9f02-247aedb0aba6",
   "metadata": {},
   "outputs": [
    {
     "data": {
      "text/plain": [
       "2344418"
      ]
     },
     "execution_count": 43,
     "metadata": {},
     "output_type": "execute_result"
    }
   ],
   "source": [
    "len(cde)"
   ]
  },
  {
   "cell_type": "code",
   "execution_count": 44,
   "id": "a7fa5e02-654b-4616-9156-22c5882827f6",
   "metadata": {
    "tags": []
   },
   "outputs": [],
   "source": [
    "D={'evidentemente':0}\n",
    "L=['evidentemente', 'naturalmente', 'obviamente', 'lógicamente', 'aparentemente', 'supuestamente', 'realmente', 'sinceramente', 'honestamente', 'claramente']\n",
    "\n",
    "for adverbio in L:\n",
    "    D[adverbio]=cde.count(adverbio)"
   ]
  },
  {
   "cell_type": "code",
   "execution_count": 45,
   "id": "ae5bf194-cce6-4b39-b5b8-625a5b8ebf26",
   "metadata": {
    "tags": []
   },
   "outputs": [
    {
     "data": {
      "text/plain": [
       "{'evidentemente': 38,\n",
       " 'naturalmente': 24,\n",
       " 'obviamente': 91,\n",
       " 'lógicamente': 17,\n",
       " 'aparentemente': 58,\n",
       " 'supuestamente': 52,\n",
       " 'realmente': 432,\n",
       " 'sinceramente': 48,\n",
       " 'honestamente': 7,\n",
       " 'claramente': 106}"
      ]
     },
     "execution_count": 45,
     "metadata": {},
     "output_type": "execute_result"
    }
   ],
   "source": [
    "D"
   ]
  },
  {
   "cell_type": "code",
   "execution_count": null,
   "id": "96f9a23c-ad1a-47bc-a921-d9f3bdf8cead",
   "metadata": {},
   "outputs": [],
   "source": []
  },
  {
   "cell_type": "code",
   "execution_count": null,
   "id": "f74253e5-df18-4a7c-b417-3d1c67b0b325",
   "metadata": {},
   "outputs": [],
   "source": []
  }
 ],
 "metadata": {
  "kernelspec": {
   "display_name": "Python 3",
   "language": "python",
   "name": "python3"
  },
  "language_info": {
   "codemirror_mode": {
    "name": "ipython",
    "version": 3
   },
   "file_extension": ".py",
   "mimetype": "text/x-python",
   "name": "python",
   "nbconvert_exporter": "python",
   "pygments_lexer": "ipython3",
   "version": "3.8.8"
  }
 },
 "nbformat": 4,
 "nbformat_minor": 5
}
