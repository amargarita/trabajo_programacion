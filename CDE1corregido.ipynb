{
 "cells": [
  {
   "cell_type": "code",
   "execution_count": 18,
   "id": "88104e1b-6889-4e87-9083-68929f62e6aa",
   "metadata": {},
   "outputs": [],
   "source": [
    "corpus = open(\"text.txt\", \"r\", encoding=\"utf-8\")\n",
    "cde=corpus.read()"
   ]
  },
  {
   "cell_type": "code",
   "execution_count": 19,
   "id": "26e24cbb",
   "metadata": {},
   "outputs": [
    {
     "data": {
      "text/plain": [
       "'textID\\ttext\\n----\\t----\\n\\n@@124 Gran convocatoria para el concurso docente que se realiza en la Escuela Normal Con una inmensa convocatoria de docentes , convocada desde la 7.30 de este lunes en el salón de actos de la Escuela Normal Mariano Moreno , se realizó la primera jornada de el concurso para titularización de los cargos . El día comenzó con las palabras de bienvenidas de las autoridades , quienes hablaron de cientos de docentes que presentaron sus documentos que deben ser analizados por las autoridades . Los cargos fueron 138 , pero esa suma se incrementó debido a que muchos realizaron cambio de escuelas , abriendo otras oportunidades . Las jornadas continuaran este martes debido , precisamente , a el enorme número de docentes presentes . Estuvieron , la presidenta de el CGE , Graciela Bar , el profesor Héctor de la Fuente , vocal de presidencia , el secretario general de Agmer Fabián Peccín y la directora Departamental de Escuela , María del Carmen Tourfini de Córdoba . Más allá '"
      ]
     },
     "execution_count": 19,
     "metadata": {},
     "output_type": "execute_result"
    }
   ],
   "source": [
    "## primeros 1000 caracteres\n",
    "\n",
    "cde[:1000]"
   ]
  },
  {
   "cell_type": "code",
   "execution_count": 23,
   "id": "a0acf3c8",
   "metadata": {},
   "outputs": [],
   "source": [
    "## eliminamos la puntuación! en realidad, esto es importante para tener una cuenta de palabras más o menos correcta\n",
    "import string\n",
    "\n",
    "def remover_puntuacion(s): \n",
    "    for c in string.punctuation:\n",
    "        s=s.replace(c,\"\")\n",
    "    return s"
   ]
  },
  {
   "cell_type": "code",
   "execution_count": 24,
   "id": "1da71cd0",
   "metadata": {},
   "outputs": [],
   "source": [
    "cde = remover_puntuacion(cde)"
   ]
  },
  {
   "cell_type": "code",
   "execution_count": 25,
   "id": "ca1bf6f5",
   "metadata": {},
   "outputs": [
    {
     "data": {
      "text/plain": [
       "'textID\\ttext\\n\\t\\n\\n124 Gran convocatoria para el concurso docente que se realiza en la Escuela Normal Con una inmensa convocatoria de docentes  convocada desde la 730 de este lunes en el salón de actos de la Escuela Normal Mariano Moreno  se realizó la primera jornada de el concurso para titularización de los cargos  El día comenzó con las palabras de bienvenidas de las autoridades  quienes hablaron de cientos de docentes que presentaron sus documentos que deben ser analizados por las autoridades  Los cargos fueron 138  pero esa suma se incrementó debido a que muchos realizaron cambio de escuelas  abriendo otras oportunidades  Las jornadas continuaran este martes debido  precisamente  a el enorme número de docentes presentes  Estuvieron  la presidenta de el CGE  Graciela Bar  el profesor Héctor de la Fuente  vocal de presidencia  el secretario general de Agmer Fabián Peccín y la directora Departamental de Escuela  María del Carmen Tourfini de Córdoba  Más allá de esta actividad  desde AGME'"
      ]
     },
     "execution_count": 25,
     "metadata": {},
     "output_type": "execute_result"
    }
   ],
   "source": [
    "cde[:1000]"
   ]
  },
  {
   "cell_type": "code",
   "execution_count": 26,
   "id": "5c918397-8817-4e8b-a87f-b3367f07d7bf",
   "metadata": {},
   "outputs": [],
   "source": [
    "cde=cde.split()"
   ]
  },
  {
   "cell_type": "code",
   "execution_count": 27,
   "id": "ced2effe-590c-4254-9f67-7861e2516e94",
   "metadata": {},
   "outputs": [
    {
     "data": {
      "text/plain": [
       "1986115"
      ]
     },
     "execution_count": 27,
     "metadata": {},
     "output_type": "execute_result"
    }
   ],
   "source": [
    "len(cde)"
   ]
  },
  {
   "cell_type": "code",
   "execution_count": 28,
   "id": "fcaf7ba1",
   "metadata": {},
   "outputs": [
    {
     "data": {
      "text/plain": [
       "['textID',\n",
       " 'text',\n",
       " '124',\n",
       " 'Gran',\n",
       " 'convocatoria',\n",
       " 'para',\n",
       " 'el',\n",
       " 'concurso',\n",
       " 'docente',\n",
       " 'que',\n",
       " 'se',\n",
       " 'realiza',\n",
       " 'en',\n",
       " 'la',\n",
       " 'Escuela']"
      ]
     },
     "execution_count": 28,
     "metadata": {},
     "output_type": "execute_result"
    }
   ],
   "source": [
    "## te recomiendo ir mirando como van quedando los pasos de pre-proceso. También agrega más comentarios sobre lo que vas haciendo.\n",
    "\n",
    "cde[:15]"
   ]
  },
  {
   "cell_type": "code",
   "execution_count": 29,
   "id": "9a7535c9-0045-4a31-9862-ec6580c6eda9",
   "metadata": {},
   "outputs": [],
   "source": [
    "cde=[string.strip() for string in cde]"
   ]
  },
  {
   "cell_type": "code",
   "execution_count": 30,
   "id": "da4545ce-d587-419f-ad62-523b52eec674",
   "metadata": {},
   "outputs": [],
   "source": [
    "cde=[string for string in cde if len(string) >0]"
   ]
  },
  {
   "cell_type": "code",
   "execution_count": 31,
   "id": "135d251e-cd28-4a45-9aea-d4f7ece3beda",
   "metadata": {},
   "outputs": [],
   "source": [
    "cde=[string.lower() for string in cde]"
   ]
  },
  {
   "cell_type": "code",
   "execution_count": 33,
   "id": "1d0a2b4b-56fb-4c91-9f02-247aedb0aba6",
   "metadata": {},
   "outputs": [
    {
     "data": {
      "text/plain": [
       "1986115"
      ]
     },
     "execution_count": 33,
     "metadata": {},
     "output_type": "execute_result"
    }
   ],
   "source": [
    "## número de tokens!\n",
    "\n",
    "len(cde)"
   ]
  },
  {
   "cell_type": "code",
   "execution_count": 35,
   "id": "ff57daa6",
   "metadata": {},
   "outputs": [
    {
     "data": {
      "text/plain": [
       "90672"
      ]
     },
     "execution_count": 35,
     "metadata": {},
     "output_type": "execute_result"
    }
   ],
   "source": [
    "## número de types!\n",
    "\n",
    "len(set(cde))"
   ]
  },
  {
   "cell_type": "code",
   "execution_count": 36,
   "id": "cd4afafe",
   "metadata": {},
   "outputs": [],
   "source": [
    "## el número de tokens y types son importantes de reportar en la entrega 2, por corpus (si es que usas más de uno)"
   ]
  },
  {
   "cell_type": "code",
   "execution_count": 37,
   "id": "ad54a557",
   "metadata": {},
   "outputs": [
    {
     "data": {
      "text/plain": [
       "['textid',\n",
       " 'text',\n",
       " '124',\n",
       " 'gran',\n",
       " 'convocatoria',\n",
       " 'para',\n",
       " 'el',\n",
       " 'concurso',\n",
       " 'docente',\n",
       " 'que',\n",
       " 'se',\n",
       " 'realiza',\n",
       " 'en',\n",
       " 'la',\n",
       " 'escuela',\n",
       " 'normal',\n",
       " 'con',\n",
       " 'una',\n",
       " 'inmensa',\n",
       " 'convocatoria',\n",
       " 'de',\n",
       " 'docentes',\n",
       " 'convocada',\n",
       " 'desde',\n",
       " 'la',\n",
       " '730',\n",
       " 'de',\n",
       " 'este',\n",
       " 'lunes',\n",
       " 'en',\n",
       " 'el',\n",
       " 'salón',\n",
       " 'de',\n",
       " 'actos',\n",
       " 'de',\n",
       " 'la',\n",
       " 'escuela',\n",
       " 'normal',\n",
       " 'mariano',\n",
       " 'moreno',\n",
       " 'se',\n",
       " 'realizó',\n",
       " 'la',\n",
       " 'primera',\n",
       " 'jornada',\n",
       " 'de',\n",
       " 'el',\n",
       " 'concurso',\n",
       " 'para',\n",
       " 'titularización',\n",
       " 'de',\n",
       " 'los',\n",
       " 'cargos',\n",
       " 'el',\n",
       " 'día',\n",
       " 'comenzó',\n",
       " 'con',\n",
       " 'las',\n",
       " 'palabras',\n",
       " 'de',\n",
       " 'bienvenidas',\n",
       " 'de',\n",
       " 'las',\n",
       " 'autoridades',\n",
       " 'quienes',\n",
       " 'hablaron',\n",
       " 'de',\n",
       " 'cientos',\n",
       " 'de',\n",
       " 'docentes',\n",
       " 'que',\n",
       " 'presentaron',\n",
       " 'sus',\n",
       " 'documentos',\n",
       " 'que',\n",
       " 'deben',\n",
       " 'ser',\n",
       " 'analizados',\n",
       " 'por',\n",
       " 'las',\n",
       " 'autoridades',\n",
       " 'los',\n",
       " 'cargos',\n",
       " 'fueron',\n",
       " '138',\n",
       " 'pero',\n",
       " 'esa',\n",
       " 'suma',\n",
       " 'se',\n",
       " 'incrementó',\n",
       " 'debido',\n",
       " 'a',\n",
       " 'que',\n",
       " 'muchos',\n",
       " 'realizaron',\n",
       " 'cambio',\n",
       " 'de',\n",
       " 'escuelas',\n",
       " 'abriendo',\n",
       " 'otras']"
      ]
     },
     "execution_count": 37,
     "metadata": {},
     "output_type": "execute_result"
    }
   ],
   "source": [
    "cde[:100]"
   ]
  },
  {
   "cell_type": "code",
   "execution_count": 38,
   "id": "a7fa5e02-654b-4616-9156-22c5882827f6",
   "metadata": {
    "tags": []
   },
   "outputs": [],
   "source": [
    "## se puede definir vacío el diccionario\n",
    "D={}\n",
    "L=['evidentemente', 'naturalmente', 'obviamente', 'lógicamente', 'aparentemente', 'supuestamente', 'realmente', 'sinceramente', 'honestamente', 'claramente']\n",
    "\n",
    "## está bacán esto\n",
    "for adverbio in L:\n",
    "    D[adverbio]=cde.count(adverbio)"
   ]
  },
  {
   "cell_type": "code",
   "execution_count": 39,
   "id": "ae5bf194-cce6-4b39-b5b8-625a5b8ebf26",
   "metadata": {
    "tags": []
   },
   "outputs": [
    {
     "data": {
      "text/plain": [
       "{'evidentemente': 38,\n",
       " 'naturalmente': 24,\n",
       " 'obviamente': 91,\n",
       " 'lógicamente': 17,\n",
       " 'aparentemente': 58,\n",
       " 'supuestamente': 52,\n",
       " 'realmente': 432,\n",
       " 'sinceramente': 48,\n",
       " 'honestamente': 7,\n",
       " 'claramente': 106}"
      ]
     },
     "execution_count": 39,
     "metadata": {},
     "output_type": "execute_result"
    }
   ],
   "source": [
    "D"
   ]
  },
  {
   "cell_type": "markdown",
   "id": "49cfe1ca",
   "metadata": {},
   "source": [
    "Hay hartas preguntas que surgen de esto! Estas preguntas (y otras) pueden ser parte de esta entrega y de la entrega final\n",
    "\n",
    "- ¿Cómo interpretas las diferencias de frecuencias entre los distintos adverbios? ¿Qué factores influyen en esto? ¿Cómo podemos detectar que sus usos son realmente evidenciales?\n",
    "- ¿Cómo se comparan estos números con las frecuencias de todos los adverbios?\n",
    "- ¿Cómo se comparan las frecuencias de los adverbios con otras clases de palabras?\n",
    "- ¿Cómo se comparan estos resultados con los adverbios terminados en -mente? Para esto podrías tener información gramatical, la palabra es un adverbio (según una librería tipo spacy), y además termina en -mente. \n",
    "\n",
    "Fíjate que aquí estás contando frecuencias en una lista de palabras. También, podrías contar en una lista de oraciones. "
   ]
  },
  {
   "cell_type": "code",
   "execution_count": null,
   "id": "f74253e5-df18-4a7c-b417-3d1c67b0b325",
   "metadata": {},
   "outputs": [],
   "source": []
  }
 ],
 "metadata": {
  "kernelspec": {
   "display_name": "Python 3",
   "language": "python",
   "name": "python3"
  },
  "language_info": {
   "codemirror_mode": {
    "name": "ipython",
    "version": 3
   },
   "file_extension": ".py",
   "mimetype": "text/x-python",
   "name": "python",
   "nbconvert_exporter": "python",
   "pygments_lexer": "ipython3",
   "version": "3.8.8"
  }
 },
 "nbformat": 4,
 "nbformat_minor": 5
}
